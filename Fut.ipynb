{
  "nbformat": 4,
  "nbformat_minor": 0,
  "metadata": {
    "colab": {
      "provenance": []
    },
    "kernelspec": {
      "name": "python3",
      "display_name": "Python 3"
    },
    "language_info": {
      "name": "python"
    }
  },
  "cells": [
    {
      "cell_type": "code",
      "source": [
        "! pip install -q pyspark"
      ],
      "metadata": {
        "id": "3vJrrt3jMR94",
        "colab": {
          "base_uri": "https://localhost:8080/"
        },
        "outputId": "7ef61fa7-0588-47ce-af20-f008f49aabf2"
      },
      "execution_count": 1,
      "outputs": [
        {
          "output_type": "stream",
          "name": "stdout",
          "text": [
            "\u001b[2K     \u001b[90m━━━━━━━━━━━━━━━━━━━━━━━━━━━━━━━━━━━━━━━\u001b[0m \u001b[32m281.4/281.4 MB\u001b[0m \u001b[31m5.0 MB/s\u001b[0m eta \u001b[36m0:00:00\u001b[0m\n",
            "\u001b[?25h  Preparing metadata (setup.py) ... \u001b[?25l\u001b[?25hdone\n",
            "\u001b[2K     \u001b[90m━━━━━━━━━━━━━━━━━━━━━━━━━━━━━━━━━━━━━━\u001b[0m \u001b[32m199.7/199.7 KB\u001b[0m \u001b[31m17.6 MB/s\u001b[0m eta \u001b[36m0:00:00\u001b[0m\n",
            "\u001b[?25h  Building wheel for pyspark (setup.py) ... \u001b[?25l\u001b[?25hdone\n"
          ]
        }
      ]
    },
    {
      "cell_type": "code",
      "execution_count": 2,
      "metadata": {
        "id": "L9vX-c2xsyDZ"
      },
      "outputs": [],
      "source": [
        "import pandas as pd\n",
        "import numpy as np\n",
        "import seaborn as sns\n",
        "import matplotlib.pyplot as plt"
      ]
    },
    {
      "cell_type": "code",
      "source": [
        "df = pd.read_csv('/datafm20.csv', sep = ',')\n"
      ],
      "metadata": {
        "id": "2I0Vi_mps5XQ"
      },
      "execution_count": 4,
      "outputs": []
    },
    {
      "cell_type": "code",
      "source": [
        "columns = df.columns\n",
        "\n",
        "# Print the column names\n",
        "print(columns)"
      ],
      "metadata": {
        "colab": {
          "base_uri": "https://localhost:8080/"
        },
        "id": "JYKTu7K_1ai0",
        "outputId": "3f440c26-2f46-4853-fece-e42f6f83a893"
      },
      "execution_count": 6,
      "outputs": [
        {
          "output_type": "stream",
          "name": "stdout",
          "text": [
            "Index(['Unnamed: 0', 'Name', 'Position', 'Club', 'Division', 'Based', 'Nation',\n",
            "       'Height', 'Weight', 'Age', 'Preferred Foot', 'Best Pos', 'Best Role',\n",
            "       'Value', 'Wage', 'CA', 'PA', 'Wor', 'Vis', 'Thr', 'Tec', 'Tea', 'Tck',\n",
            "       'Str', 'Sta', 'TRO', 'Ref', 'Pun', 'Pos', 'Pen', 'Pas', 'Pac', '1v1',\n",
            "       'OtB', 'Nat', 'Mar', 'L Th', 'Lon', 'Ldr', 'Kic', 'Jum', 'Hea', 'Han',\n",
            "       'Fre', 'Fla', 'Fir', 'Fin', 'Ecc', 'Dri', 'Det', 'Dec', 'Cro', 'Cor',\n",
            "       'Cnt', 'Cmp', 'Com', 'Cmd', 'Bra', 'Bal', 'Ant', 'Agi', 'Agg', 'Aer',\n",
            "       'Acc'],\n",
            "      dtype='object')\n"
          ]
        }
      ]
    },
    {
      "cell_type": "code",
      "source": [
        "df.head(5)"
      ],
      "metadata": {
        "colab": {
          "base_uri": "https://localhost:8080/",
          "height": 455
        },
        "id": "MyX4t1tBtDYF",
        "outputId": "53fa743a-80b3-4429-c0d5-86aaa2e658dc"
      },
      "execution_count": 7,
      "outputs": [
        {
          "output_type": "execute_result",
          "data": {
            "text/plain": [
              "   Unnamed: 0               Name                Position       Club  \\\n",
              "0           0       Lionel Messi         AM (RC), ST (C)  Barcelona   \n",
              "1           1  Cristiano Ronaldo         AM (RL), ST (C)   Juventus   \n",
              "2           2     Kylian MbappÃ©         AM (RL), ST (C)   Paris SG   \n",
              "3           3       Manuel Neuer                      GK  FC Bayern   \n",
              "4           4             Neymar  M (L), AM (LC), ST (C)   Paris SG   \n",
              "\n",
              "                 Division                       Based Nation  Height  Weight  \\\n",
              "0  Spanish First Division      Spain (First Division)    ARG     170      72   \n",
              "1         Italian Serie A             Italy (Serie A)    POR     185      83   \n",
              "2       Ligue 1 Conforama  France (Ligue 1 Conforama)    FRA     178      73   \n",
              "3              Bundesliga        Germany (Bundesliga)    GER     192      90   \n",
              "4       Ligue 1 Conforama  France (Ligue 1 Conforama)    BRA     175      68   \n",
              "\n",
              "   Age  ... Cmp Com Cmd  Bra   Bal   Ant   Agi   Agg   Aer   Acc  \n",
              "0   32  ...  18   2   2   10  19.0  19.0  19.0   7.0   2.0  18.0  \n",
              "1   34  ...  14   4   1   16  14.0  18.0  13.0   6.0   2.0  15.0  \n",
              "2   20  ...  18   2   1   12  14.0  17.0  16.0   6.0   4.0  20.0  \n",
              "3   33  ...  20  12  17   14  14.0  19.0  15.0   8.0  14.0  13.0  \n",
              "4   27  ...  17   3   1   14  14.0  16.0  18.0  10.0   4.0  17.0  \n",
              "\n",
              "[5 rows x 64 columns]"
            ],
            "text/html": [
              "\n",
              "  <div id=\"df-911d64e7-0c14-4bef-8a4a-9feb2f37b275\">\n",
              "    <div class=\"colab-df-container\">\n",
              "      <div>\n",
              "<style scoped>\n",
              "    .dataframe tbody tr th:only-of-type {\n",
              "        vertical-align: middle;\n",
              "    }\n",
              "\n",
              "    .dataframe tbody tr th {\n",
              "        vertical-align: top;\n",
              "    }\n",
              "\n",
              "    .dataframe thead th {\n",
              "        text-align: right;\n",
              "    }\n",
              "</style>\n",
              "<table border=\"1\" class=\"dataframe\">\n",
              "  <thead>\n",
              "    <tr style=\"text-align: right;\">\n",
              "      <th></th>\n",
              "      <th>Unnamed: 0</th>\n",
              "      <th>Name</th>\n",
              "      <th>Position</th>\n",
              "      <th>Club</th>\n",
              "      <th>Division</th>\n",
              "      <th>Based</th>\n",
              "      <th>Nation</th>\n",
              "      <th>Height</th>\n",
              "      <th>Weight</th>\n",
              "      <th>Age</th>\n",
              "      <th>...</th>\n",
              "      <th>Cmp</th>\n",
              "      <th>Com</th>\n",
              "      <th>Cmd</th>\n",
              "      <th>Bra</th>\n",
              "      <th>Bal</th>\n",
              "      <th>Ant</th>\n",
              "      <th>Agi</th>\n",
              "      <th>Agg</th>\n",
              "      <th>Aer</th>\n",
              "      <th>Acc</th>\n",
              "    </tr>\n",
              "  </thead>\n",
              "  <tbody>\n",
              "    <tr>\n",
              "      <th>0</th>\n",
              "      <td>0</td>\n",
              "      <td>Lionel Messi</td>\n",
              "      <td>AM (RC), ST (C)</td>\n",
              "      <td>Barcelona</td>\n",
              "      <td>Spanish First Division</td>\n",
              "      <td>Spain (First Division)</td>\n",
              "      <td>ARG</td>\n",
              "      <td>170</td>\n",
              "      <td>72</td>\n",
              "      <td>32</td>\n",
              "      <td>...</td>\n",
              "      <td>18</td>\n",
              "      <td>2</td>\n",
              "      <td>2</td>\n",
              "      <td>10</td>\n",
              "      <td>19.0</td>\n",
              "      <td>19.0</td>\n",
              "      <td>19.0</td>\n",
              "      <td>7.0</td>\n",
              "      <td>2.0</td>\n",
              "      <td>18.0</td>\n",
              "    </tr>\n",
              "    <tr>\n",
              "      <th>1</th>\n",
              "      <td>1</td>\n",
              "      <td>Cristiano Ronaldo</td>\n",
              "      <td>AM (RL), ST (C)</td>\n",
              "      <td>Juventus</td>\n",
              "      <td>Italian Serie A</td>\n",
              "      <td>Italy (Serie A)</td>\n",
              "      <td>POR</td>\n",
              "      <td>185</td>\n",
              "      <td>83</td>\n",
              "      <td>34</td>\n",
              "      <td>...</td>\n",
              "      <td>14</td>\n",
              "      <td>4</td>\n",
              "      <td>1</td>\n",
              "      <td>16</td>\n",
              "      <td>14.0</td>\n",
              "      <td>18.0</td>\n",
              "      <td>13.0</td>\n",
              "      <td>6.0</td>\n",
              "      <td>2.0</td>\n",
              "      <td>15.0</td>\n",
              "    </tr>\n",
              "    <tr>\n",
              "      <th>2</th>\n",
              "      <td>2</td>\n",
              "      <td>Kylian MbappÃ©</td>\n",
              "      <td>AM (RL), ST (C)</td>\n",
              "      <td>Paris SG</td>\n",
              "      <td>Ligue 1 Conforama</td>\n",
              "      <td>France (Ligue 1 Conforama)</td>\n",
              "      <td>FRA</td>\n",
              "      <td>178</td>\n",
              "      <td>73</td>\n",
              "      <td>20</td>\n",
              "      <td>...</td>\n",
              "      <td>18</td>\n",
              "      <td>2</td>\n",
              "      <td>1</td>\n",
              "      <td>12</td>\n",
              "      <td>14.0</td>\n",
              "      <td>17.0</td>\n",
              "      <td>16.0</td>\n",
              "      <td>6.0</td>\n",
              "      <td>4.0</td>\n",
              "      <td>20.0</td>\n",
              "    </tr>\n",
              "    <tr>\n",
              "      <th>3</th>\n",
              "      <td>3</td>\n",
              "      <td>Manuel Neuer</td>\n",
              "      <td>GK</td>\n",
              "      <td>FC Bayern</td>\n",
              "      <td>Bundesliga</td>\n",
              "      <td>Germany (Bundesliga)</td>\n",
              "      <td>GER</td>\n",
              "      <td>192</td>\n",
              "      <td>90</td>\n",
              "      <td>33</td>\n",
              "      <td>...</td>\n",
              "      <td>20</td>\n",
              "      <td>12</td>\n",
              "      <td>17</td>\n",
              "      <td>14</td>\n",
              "      <td>14.0</td>\n",
              "      <td>19.0</td>\n",
              "      <td>15.0</td>\n",
              "      <td>8.0</td>\n",
              "      <td>14.0</td>\n",
              "      <td>13.0</td>\n",
              "    </tr>\n",
              "    <tr>\n",
              "      <th>4</th>\n",
              "      <td>4</td>\n",
              "      <td>Neymar</td>\n",
              "      <td>M (L), AM (LC), ST (C)</td>\n",
              "      <td>Paris SG</td>\n",
              "      <td>Ligue 1 Conforama</td>\n",
              "      <td>France (Ligue 1 Conforama)</td>\n",
              "      <td>BRA</td>\n",
              "      <td>175</td>\n",
              "      <td>68</td>\n",
              "      <td>27</td>\n",
              "      <td>...</td>\n",
              "      <td>17</td>\n",
              "      <td>3</td>\n",
              "      <td>1</td>\n",
              "      <td>14</td>\n",
              "      <td>14.0</td>\n",
              "      <td>16.0</td>\n",
              "      <td>18.0</td>\n",
              "      <td>10.0</td>\n",
              "      <td>4.0</td>\n",
              "      <td>17.0</td>\n",
              "    </tr>\n",
              "  </tbody>\n",
              "</table>\n",
              "<p>5 rows × 64 columns</p>\n",
              "</div>\n",
              "      <button class=\"colab-df-convert\" onclick=\"convertToInteractive('df-911d64e7-0c14-4bef-8a4a-9feb2f37b275')\"\n",
              "              title=\"Convert this dataframe to an interactive table.\"\n",
              "              style=\"display:none;\">\n",
              "        \n",
              "  <svg xmlns=\"http://www.w3.org/2000/svg\" height=\"24px\"viewBox=\"0 0 24 24\"\n",
              "       width=\"24px\">\n",
              "    <path d=\"M0 0h24v24H0V0z\" fill=\"none\"/>\n",
              "    <path d=\"M18.56 5.44l.94 2.06.94-2.06 2.06-.94-2.06-.94-.94-2.06-.94 2.06-2.06.94zm-11 1L8.5 8.5l.94-2.06 2.06-.94-2.06-.94L8.5 2.5l-.94 2.06-2.06.94zm10 10l.94 2.06.94-2.06 2.06-.94-2.06-.94-.94-2.06-.94 2.06-2.06.94z\"/><path d=\"M17.41 7.96l-1.37-1.37c-.4-.4-.92-.59-1.43-.59-.52 0-1.04.2-1.43.59L10.3 9.45l-7.72 7.72c-.78.78-.78 2.05 0 2.83L4 21.41c.39.39.9.59 1.41.59.51 0 1.02-.2 1.41-.59l7.78-7.78 2.81-2.81c.8-.78.8-2.07 0-2.86zM5.41 20L4 18.59l7.72-7.72 1.47 1.35L5.41 20z\"/>\n",
              "  </svg>\n",
              "      </button>\n",
              "      \n",
              "  <style>\n",
              "    .colab-df-container {\n",
              "      display:flex;\n",
              "      flex-wrap:wrap;\n",
              "      gap: 12px;\n",
              "    }\n",
              "\n",
              "    .colab-df-convert {\n",
              "      background-color: #E8F0FE;\n",
              "      border: none;\n",
              "      border-radius: 50%;\n",
              "      cursor: pointer;\n",
              "      display: none;\n",
              "      fill: #1967D2;\n",
              "      height: 32px;\n",
              "      padding: 0 0 0 0;\n",
              "      width: 32px;\n",
              "    }\n",
              "\n",
              "    .colab-df-convert:hover {\n",
              "      background-color: #E2EBFA;\n",
              "      box-shadow: 0px 1px 2px rgba(60, 64, 67, 0.3), 0px 1px 3px 1px rgba(60, 64, 67, 0.15);\n",
              "      fill: #174EA6;\n",
              "    }\n",
              "\n",
              "    [theme=dark] .colab-df-convert {\n",
              "      background-color: #3B4455;\n",
              "      fill: #D2E3FC;\n",
              "    }\n",
              "\n",
              "    [theme=dark] .colab-df-convert:hover {\n",
              "      background-color: #434B5C;\n",
              "      box-shadow: 0px 1px 3px 1px rgba(0, 0, 0, 0.15);\n",
              "      filter: drop-shadow(0px 1px 2px rgba(0, 0, 0, 0.3));\n",
              "      fill: #FFFFFF;\n",
              "    }\n",
              "  </style>\n",
              "\n",
              "      <script>\n",
              "        const buttonEl =\n",
              "          document.querySelector('#df-911d64e7-0c14-4bef-8a4a-9feb2f37b275 button.colab-df-convert');\n",
              "        buttonEl.style.display =\n",
              "          google.colab.kernel.accessAllowed ? 'block' : 'none';\n",
              "\n",
              "        async function convertToInteractive(key) {\n",
              "          const element = document.querySelector('#df-911d64e7-0c14-4bef-8a4a-9feb2f37b275');\n",
              "          const dataTable =\n",
              "            await google.colab.kernel.invokeFunction('convertToInteractive',\n",
              "                                                     [key], {});\n",
              "          if (!dataTable) return;\n",
              "\n",
              "          const docLinkHtml = 'Like what you see? Visit the ' +\n",
              "            '<a target=\"_blank\" href=https://colab.research.google.com/notebooks/data_table.ipynb>data table notebook</a>'\n",
              "            + ' to learn more about interactive tables.';\n",
              "          element.innerHTML = '';\n",
              "          dataTable['output_type'] = 'display_data';\n",
              "          await google.colab.output.renderOutput(dataTable, element);\n",
              "          const docLink = document.createElement('div');\n",
              "          docLink.innerHTML = docLinkHtml;\n",
              "          element.appendChild(docLink);\n",
              "        }\n",
              "      </script>\n",
              "    </div>\n",
              "  </div>\n",
              "  "
            ]
          },
          "metadata": {},
          "execution_count": 7
        }
      ]
    },
    {
      "cell_type": "code",
      "source": [
        "grouped_data = df.groupby('Name')['Wage'].max()\n",
        "\n",
        "# sort the data in descending order and select the top 10 highest salaries\n",
        "top_10_salaries = grouped_data.sort_values(ascending=False).head(10)\n",
        "\n",
        "# print the top 10 highest salaries\n",
        "top_10_salaries"
      ],
      "metadata": {
        "id": "XqSNE5EWSbaf",
        "colab": {
          "base_uri": "https://localhost:8080/"
        },
        "outputId": "446dd1cc-e2cc-46ef-a89c-7fd29a7902ea"
      },
      "execution_count": 12,
      "outputs": [
        {
          "output_type": "execute_result",
          "data": {
            "text/plain": [
              "Name\n",
              "Lionel Messi         1200000\n",
              "Cristiano Ronaldo     950000\n",
              "Neymar                600000\n",
              "Oscar                 550000\n",
              "Antoine Griezmann     550000\n",
              "Eden Hazard           525000\n",
              "Gareth Bale           525000\n",
              "Sergio Ramos          475000\n",
              "Hulk                  450000\n",
              "Paulinho              425000\n",
              "Name: Wage, dtype: int64"
            ]
          },
          "metadata": {},
          "execution_count": 12
        }
      ]
    },
    {
      "cell_type": "code",
      "source": [
        "grouped_data = df.groupby('Name')['Value'].max()\n",
        "\n",
        "# sort the data in descending order and select the top 10 highest salaries\n",
        "top_10_values = grouped_data.sort_values(ascending=False).head(10)\n",
        "\n",
        "# print the top 10 highest valued players\n",
        "print(top_10_values)\n",
        "\n"
      ],
      "metadata": {
        "colab": {
          "base_uri": "https://localhost:8080/"
        },
        "id": "jJ8jD8HmdhKU",
        "outputId": "c4223c0f-c456-4cc1-894b-78ae265c03a4"
      },
      "execution_count": 40,
      "outputs": [
        {
          "output_type": "stream",
          "name": "stdout",
          "text": [
            "Name\n",
            "Neymar                91000000\n",
            "Kevin De Bruyne       88000000\n",
            "Kylian MbappÃ©        86000000\n",
            "Robert Lewandowski    80000000\n",
            "Mohamed Salah         79000000\n",
            "Sadio ManÃ©           79000000\n",
            "Sergio AgÃ¼ero        78000000\n",
            "Harry Kane            77000000\n",
            "Leroy SanÃ©           76000000\n",
            "Eden Hazard           75000000\n",
            "Name: Value, dtype: int64\n"
          ]
        }
      ]
    },
    {
      "cell_type": "code",
      "source": [
        "nation_counts = df['Nation'].value_counts()\n",
        "\n",
        "# get the top 10 nations with the most players\n",
        "top_10_nations = nation_counts.head(10)\n",
        "\n",
        "# print the top 10 nations with the most players\n",
        "print(top_10_nations)\n",
        "\n",
        "plt.bar(top_10_nations.index, top_10_nations.values)\n",
        "plt.xlabel('Nation')\n",
        "plt.ylabel('Number of Players')\n",
        "plt.title('Number of Players by Nation (Top 10)')\n",
        "plt.xticks(rotation=90)\n",
        "plt.show()"
      ],
      "metadata": {
        "colab": {
          "base_uri": "https://localhost:8080/",
          "height": 679
        },
        "id": "l0o-ujZCdhM1",
        "outputId": "db1ed0f3-4f04-43c0-8dfc-18882dd099d9"
      },
      "execution_count": 21,
      "outputs": [
        {
          "output_type": "stream",
          "name": "stdout",
          "text": [
            "BRA    1853\n",
            "ARG    1506\n",
            "ESP    1149\n",
            "ENG     993\n",
            "FRA     851\n",
            "ITA     820\n",
            "GER     598\n",
            "COL     570\n",
            "POR     466\n",
            "NED     384\n",
            "Name: Nation, dtype: int64\n"
          ]
        },
        {
          "output_type": "display_data",
          "data": {
            "text/plain": [
              "<Figure size 640x480 with 1 Axes>"
            ],
            "image/png": "[encoded data removed]"
          },
          "metadata": {}
        }
      ]
    },
    {
      "cell_type": "code",
      "source": [
        "height_mean = df['Height'].mean()\n",
        "\n",
        "# print the mean height\n",
        "print(\"The mean height of players is:\", height_mean, 'cm')\n"
      ],
      "metadata": {
        "colab": {
          "base_uri": "https://localhost:8080/"
        },
        "id": "SYTXEXckdhPm",
        "outputId": "1d87dc17-c0dc-439c-9e04-e7c195a09441"
      },
      "execution_count": 32,
      "outputs": [
        {
          "output_type": "stream",
          "name": "stdout",
          "text": [
            "The mean height of players is: 180.71264858274915 cm\n"
          ]
        }
      ]
    },
    {
      "cell_type": "code",
      "source": [
        "wage_mean = df['Wage'].mean()\n",
        "\n",
        "# print the mean height\n",
        "print(\"The mean wage of players is:\",\"EUR\", wage_mean)\n"
      ],
      "metadata": {
        "colab": {
          "base_uri": "https://localhost:8080/"
        },
        "id": "GlRYLNbfdhSU",
        "outputId": "5af81296-8c66-4d2e-b32b-00178586376b"
      },
      "execution_count": 36,
      "outputs": [
        {
          "output_type": "stream",
          "name": "stdout",
          "text": [
            "The mean wage of players is: EUR 10524.05096007315\n"
          ]
        }
      ]
    },
    {
      "cell_type": "code",
      "source": [
        "weight_mean = df['Weight'].mean()\n",
        "\n",
        "# print the mean height\n",
        "print(\"The mean Weight of players is:\", weight_mean, 'kg')\n"
      ],
      "metadata": {
        "colab": {
          "base_uri": "https://localhost:8080/"
        },
        "id": "APJt9NzPdhU4",
        "outputId": "8ff921c5-07fc-43cc-c38c-106ceadc342a"
      },
      "execution_count": 37,
      "outputs": [
        {
          "output_type": "stream",
          "name": "stdout",
          "text": [
            "The mean Weight of players is: 74.37323986589455 kg\n"
          ]
        }
      ]
    },
    {
      "cell_type": "code",
      "source": [
        "age_mean = df['Age'].mean()\n",
        "\n",
        "# print the mean height\n",
        "print(\"The mean Age of players is:\", age_mean, 'years old')\n"
      ],
      "metadata": {
        "colab": {
          "base_uri": "https://localhost:8080/"
        },
        "id": "zr0ew07SiyIF",
        "outputId": "6848ed64-315d-4567-f330-f352c7d7e807"
      },
      "execution_count": 39,
      "outputs": [
        {
          "output_type": "stream",
          "name": "stdout",
          "text": [
            "The mean Age of players is: 25.06754038402926 years old\n"
          ]
        }
      ]
    },
    {
      "cell_type": "markdown",
      "source": [],
      "metadata": {
        "id": "acsimEbn4AVX"
      }
    }
  ]
}